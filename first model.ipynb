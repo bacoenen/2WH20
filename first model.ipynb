{
 "cells": [
  {
   "cell_type": "code",
   "execution_count": null,
   "id": "fbadd4f2",
   "metadata": {},
   "outputs": [],
   "source": [
    "import random, math\n",
    "import numpy as np\n"
   ]
  },
  {
   "cell_type": "code",
   "execution_count": null,
   "id": "b1b4ca90",
   "metadata": {},
   "outputs": [],
   "source": [
    "population = 2000 #population size\n",
    "time = 100 #max run time\n",
    "\n",
    "distribution = [0.025, 0.135, 0.34, 0.5] #different types of adopters distribution\n",
    "probability = [0.6, 0.4, 0.2, 0.1] #probability associated with types of adopters\n",
    "\n",
    "mass_prob = 0.3 # added probabiltiy due to large scale adoption\n",
    "\n",
    "bored = 8   #days until bored\n",
    "\n",
    "Person = range(0,population,1)\n",
    "Status = ['adop'] + (population-1)*['unadop']\n",
    "Time = [1] + (population-1)*[0]\n",
    "Prob = create_adopters(population, distribution, probability)\n",
    "\n",
    "day = 1 # starting day\n",
    "\n",
    "while (Status.count('bore') != population) and (day < time):\n",
    "    \n",
    "    for i,s,t,p in zip(Person,Status,Time, Prob): #the code iterates through every person\n",
    "        \n",
    "        p += mass_prob*Status.count('adop')/population #add probability due to adoption by other people\n",
    "        \n",
    "        if s == 'unadop' and random.random() < p: #chance person adopts the innovation\n",
    "            Status[i] = 'adop'\n",
    "            Time[i] = day\n",
    "        \n",
    "        if (s == 'adop') and day - t > k : #after k days, person gets bored of innovation\n",
    "            Status[i] = 'bore'\n",
    "        \n",
    "    print(f\"{Status.count('adop')} have adopted the tech on day {day}\")\n",
    "    \n",
    "    day = day+1\n",
    "\n"
   ]
  },
  {
   "cell_type": "code",
   "execution_count": null,
   "id": "64030d63",
   "metadata": {},
   "outputs": [],
   "source": [
    "#define functions\n",
    "\n",
    "def adopt(Status: str, Prob: float) -> int:\n",
    "        \"\"\"Decides whether a person adopts the trend based on their status and the probabiltiy that he adopts it,\n",
    "        returns whether or not he adopted it and the day he adopted it on\"\"\"\n",
    "        \n",
    "def adopter(Status: str, Prob: float) -> int:\n",
    "        \"\"\"creates a list \"\"\"\n",
    "        "
   ]
  },
  {
   "cell_type": "code",
   "execution_count": null,
   "id": "06a70b09",
   "metadata": {},
   "outputs": [],
   "source": [
    "def create_adopters(pop, dis, prob):\n",
    "    s = innovators + early_adopters + late_adopters + laggards\n",
    "    y = np.zeros(pop)\n",
    "    for i in range(0,pop,1):\n",
    "        if i <= dis[0]*pop:\n",
    "            y[i] = prob[0]\n",
    "        elif i <= (dis[0]+dis[1])*pop:\n",
    "            y[i] = prob[1]\n",
    "        elif i <= (dis[0]+dis[1]+dis[2])*pop:\n",
    "            y[i] = prob[2]\n",
    "        else:\n",
    "            y[i] = prob[3]\n",
    "    return y"
   ]
  },
  {
   "cell_type": "code",
   "execution_count": null,
   "id": "05152902",
   "metadata": {},
   "outputs": [],
   "source": [
    "y = np.zeros_like(range(10))\n",
    "print(y)"
   ]
  },
  {
   "cell_type": "code",
   "execution_count": null,
   "id": "0eace1da",
   "metadata": {},
   "outputs": [],
   "source": []
  }
 ],
 "metadata": {
  "kernelspec": {
   "display_name": "Python (pychEnv)",
   "language": "python",
   "name": "pychenv"
  },
  "language_info": {
   "codemirror_mode": {
    "name": "ipython",
    "version": 3
   },
   "file_extension": ".py",
   "mimetype": "text/x-python",
   "name": "python",
   "nbconvert_exporter": "python",
   "pygments_lexer": "ipython3",
   "version": "3.10.8"
  }
 },
 "nbformat": 4,
 "nbformat_minor": 5
}
